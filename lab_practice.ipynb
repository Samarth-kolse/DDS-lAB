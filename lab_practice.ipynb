{
  "nbformat": 4,
  "nbformat_minor": 0,
  "metadata": {
    "colab": {
      "provenance": [],
      "authorship_tag": "ABX9TyNo15/f1SuI30ft6VM+WsFQ",
      "include_colab_link": true
    },
    "kernelspec": {
      "name": "python3",
      "display_name": "Python 3"
    },
    "language_info": {
      "name": "python"
    }
  },
  "cells": [
    {
      "cell_type": "markdown",
      "metadata": {
        "id": "view-in-github",
        "colab_type": "text"
      },
      "source": [
        "<a href=\"https://colab.research.google.com/github/Samarth-kolse/DDS-lAB/blob/main/lab_practice.ipynb\" target=\"_parent\"><img src=\"https://colab.research.google.com/assets/colab-badge.svg\" alt=\"Open In Colab\"/></a>"
      ]
    },
    {
      "cell_type": "code",
      "execution_count": null,
      "metadata": {
        "colab": {
          "base_uri": "https://localhost:8080/"
        },
        "id": "Qx-sReWDRiIS",
        "outputId": "5112b819-6c05-4b4e-ac49-43f56d4f26bc"
      },
      "outputs": [
        {
          "output_type": "stream",
          "name": "stdout",
          "text": [
            "0\n",
            "3\n"
          ]
        }
      ],
      "source": [
        "l = [3,2,2,3]\n",
        "t = 3\n",
        "for i in range(len(l)):\n",
        "  if l[i] ==t:\n",
        "    print(i)"
      ]
    },
    {
      "cell_type": "code",
      "source": [
        "k = 0\n",
        "nums=[3,2,2,3]\n",
        "val = 3\n",
        "for i in range(len(nums)):\n",
        "  if nums[i] != val:\n",
        "    nums[k] = nums[i]\n",
        "    k +=1\n",
        "print(k)"
      ],
      "metadata": {
        "colab": {
          "base_uri": "https://localhost:8080/"
        },
        "id": "5t18KMUNWGGP",
        "outputId": "4a7b6db0-d7e0-49b7-c391-45b5f86236b0"
      },
      "execution_count": null,
      "outputs": [
        {
          "output_type": "stream",
          "name": "stdout",
          "text": [
            "2\n"
          ]
        }
      ]
    },
    {
      "cell_type": "code",
      "source": [
        "nums= [0,1,2,2,3,0,4,2]\n",
        "val = 2\n"
      ],
      "metadata": {
        "id": "veao2p8caBKm"
      },
      "execution_count": null,
      "outputs": []
    },
    {
      "cell_type": "code",
      "source": [
        "def find_pivot_index(num):\n",
        "  t = sum(num)\n",
        "  l_t = 0\n",
        "  for i in range(len(num)):\n",
        "    r_t = t-l_t-num[i]\n",
        "    if r_t == l_t:\n",
        "      return i\n",
        "    l_t += num[i]\n",
        "  return -1\n",
        "\n",
        "num = [1,7,3,6,5,6]\n",
        "print(find_pivot_index(num))"
      ],
      "metadata": {
        "colab": {
          "base_uri": "https://localhost:8080/"
        },
        "id": "dKXKSeN1bS2l",
        "outputId": "069025d1-a83a-4564-9710-596617920ebe"
      },
      "execution_count": null,
      "outputs": [
        {
          "output_type": "stream",
          "name": "stdout",
          "text": [
            "3\n"
          ]
        }
      ]
    },
    {
      "cell_type": "markdown",
      "source": [
        "GCD CODE\n"
      ],
      "metadata": {
        "id": "hLBhaITZc4je"
      }
    },
    {
      "cell_type": "code",
      "source": [
        "%%writefile Rgcd.cpp\n",
        "#include<iostream>\n",
        "using namespace std;\n",
        "\n",
        "int gcd(int a, int b){\n",
        "  if (b==0)\n",
        "     return a;\n",
        "  return gcd(b,a%b);\n",
        "}\n",
        "\n",
        "int main(){\n",
        "  int a = 66,b=18;\n",
        "  cout<<\"GCD of  \"<<a<<\" and \"<<b<<\" is: \"<<gcd(a,b)<<endl;\n",
        "  return 0;\n",
        "}"
      ],
      "metadata": {
        "id": "hcgIFxyic-6u",
        "colab": {
          "base_uri": "https://localhost:8080/"
        },
        "outputId": "3737d8b9-1ded-4e48-91ea-55dcdd4c4517"
      },
      "execution_count": 13,
      "outputs": [
        {
          "output_type": "stream",
          "name": "stdout",
          "text": [
            "Overwriting Rgcd.cpp\n"
          ]
        }
      ]
    },
    {
      "cell_type": "code",
      "source": [
        "!g++ Rgcd.cpp"
      ],
      "metadata": {
        "id": "9LdZO3PeduD3"
      },
      "execution_count": 11,
      "outputs": []
    },
    {
      "cell_type": "code",
      "source": [
        "!./a.out"
      ],
      "metadata": {
        "colab": {
          "base_uri": "https://localhost:8080/"
        },
        "id": "TpaP5bwdfp5X",
        "outputId": "a5e86d34-512f-44a6-e323-3c7f936ef60d"
      },
      "execution_count": 15,
      "outputs": [
        {
          "output_type": "stream",
          "name": "stdout",
          "text": [
            "GCD of66and18is: 6\n"
          ]
        }
      ]
    },
    {
      "cell_type": "markdown",
      "source": [
        "POSTFIX"
      ],
      "metadata": {
        "id": "lnlmMceviGc-"
      }
    },
    {
      "cell_type": "code",
      "source": [
        "%%writefile postfix.cpp\n",
        "#include<iostream>\n",
        "#include<stack>\n",
        "#include<cctype>\n",
        "using namespace std;\n",
        "\n",
        "int evaluate_postfix(string expr){\n",
        "  stack<int> st;\n",
        "\n",
        "  for(char ch: expr){\n",
        "    if(isdigit(ch)) {\n",
        "        st.push(ch-'0');\n",
        "    } else{\n",
        "      int a = st.top();st.pop();\n",
        "      int b = st.top();st.pop();\n",
        "\n",
        "      switch(ch){\n",
        "        case '+':st.push(a+b);break;\n",
        "        case '-':st.push(a-b);break;\n",
        "        case '*':st.push(a*b);break;\n",
        "        case '/':st.push(a/b);break;\n",
        "      }\n",
        "    }\n",
        "  }\n",
        "\n",
        "  return st.top();\n",
        "}\n",
        "int main() {\n",
        "  string expr = \"53+62/*\";\n",
        "  cout<< \"Postfix Expression: \"<< expr <<endl;\n",
        "  cout<< \"Evaluated Result: \"<<evaluate_postfix(expr) << endl;\n",
        "  return 0;\n",
        "}\n"
      ],
      "metadata": {
        "colab": {
          "base_uri": "https://localhost:8080/"
        },
        "id": "N5v6yNXoiJmu",
        "outputId": "7ae1bdef-5739-4f00-cd30-f87667cd1574"
      },
      "execution_count": 26,
      "outputs": [
        {
          "output_type": "stream",
          "name": "stdout",
          "text": [
            "Overwriting postfix.cpp\n"
          ]
        }
      ]
    },
    {
      "cell_type": "code",
      "source": [
        "!g++ postfix.cpp"
      ],
      "metadata": {
        "id": "2vlZIGS2kdhP"
      },
      "execution_count": 27,
      "outputs": []
    },
    {
      "cell_type": "code",
      "source": [
        "!./a.out"
      ],
      "metadata": {
        "colab": {
          "base_uri": "https://localhost:8080/"
        },
        "id": "lUKce6QBkkK2",
        "outputId": "5fe0d60f-8399-4392-916f-b7beea153fff"
      },
      "execution_count": 28,
      "outputs": [
        {
          "output_type": "stream",
          "name": "stdout",
          "text": [
            "Postfix Expression: 53+62/*\n",
            "Evaluated Result: 0\n"
          ]
        }
      ]
    }
  ]
}